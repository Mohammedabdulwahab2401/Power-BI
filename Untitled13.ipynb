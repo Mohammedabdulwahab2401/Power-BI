{
 "cells": [
  {
   "cell_type": "code",
   "execution_count": 2,
   "id": "5bafd6a0",
   "metadata": {},
   "outputs": [
    {
     "name": "stdout",
     "output_type": "stream",
     "text": [
      "5 is a int\n",
      "56.36 is a float\n",
      "(10+5j) is a complex\n"
     ]
    }
   ],
   "source": [
    "a=5\n",
    "print(a, \"is a int\")\n",
    "# float\n",
    "b=56.36\n",
    "print(b, \"is a float\")\n",
    "# complex\n",
    "c=10+5j\n",
    "print(c, \"is a complex\")"
   ]
  },
  {
   "cell_type": "code",
   "execution_count": 3,
   "id": "c7464d1c",
   "metadata": {},
   "outputs": [
    {
     "name": "stdout",
     "output_type": "stream",
     "text": [
      "hello world\n"
     ]
    }
   ],
   "source": [
    "a= 'hello world'\n",
    "print(a)\n",
    "\n",
    "# string using a quotes"
   ]
  },
  {
   "cell_type": "code",
   "execution_count": 4,
   "id": "7f91e8ec",
   "metadata": {},
   "outputs": [
    {
     "name": "stdout",
     "output_type": "stream",
     "text": [
      "[1, 'anesthesia', 1.5]\n"
     ]
    }
   ],
   "source": [
    "# creating list\n",
    "\n",
    "list = [1, \"anesthesia\",1.5]\n",
    "print(list)"
   ]
  },
  {
   "cell_type": "code",
   "execution_count": 5,
   "id": "35ed6e00",
   "metadata": {},
   "outputs": [
    {
     "name": "stdout",
     "output_type": "stream",
     "text": [
      "(2, 'yamaha', 2)\n"
     ]
    }
   ],
   "source": [
    "# creating tuple\n",
    "\n",
    "tuple = (2,\"yamaha\",2)\n",
    "print(tuple)"
   ]
  },
  {
   "cell_type": "code",
   "execution_count": 7,
   "id": "d7044e65",
   "metadata": {},
   "outputs": [
    {
     "name": "stdout",
     "output_type": "stream",
     "text": [
      "{'name': 'mohammed', 'age': '22', 'Degree': 'Bsc maths', 'Previous Exp': 'IGS'}\n"
     ]
    }
   ],
   "source": [
    "# creating dic\n",
    "\n",
    "dic={\"name\": \"mohammed\", \"age\": \"22\",\"Degree\":\"Bsc maths\",\"Previous Exp\": \"IGS\"}\n",
    "print(dic)"
   ]
  },
  {
   "cell_type": "code",
   "execution_count": 8,
   "id": "a69c5a12",
   "metadata": {},
   "outputs": [
    {
     "name": "stdout",
     "output_type": "stream",
     "text": [
      "{'wahab', 'abdul', 'mohammed'}\n"
     ]
    }
   ],
   "source": [
    "# creating set\n",
    "\n",
    "set ={\"mohammed\",\"abdul\",\"wahab\"}\n",
    "print(set)"
   ]
  },
  {
   "cell_type": "code",
   "execution_count": 13,
   "id": "d0f16fb7",
   "metadata": {},
   "outputs": [
    {
     "name": "stdout",
     "output_type": "stream",
     "text": [
      "False\n",
      "True\n"
     ]
    }
   ],
   "source": [
    "# boolen\n",
    "\n",
    "a= 10\n",
    "b= 20\n",
    "print(a>b)\n",
    "print(a<b)\n",
    "\n"
   ]
  },
  {
   "cell_type": "code",
   "execution_count": 15,
   "id": "c7416d21",
   "metadata": {},
   "outputs": [
    {
     "name": "stdout",
     "output_type": "stream",
     "text": [
      "8\n",
      "6\n",
      "12\n",
      "5.0\n",
      "5\n",
      "2\n",
      "8\n"
     ]
    }
   ],
   "source": [
    "# using arithemetic expression \n",
    "# Addition expression\n",
    "addition = 5 + 3 \n",
    "print(addition)\n",
    "\n",
    "# Subtraction expression\n",
    "subtraction = 10 - 4 \n",
    "print(subtraction)\n",
    "\n",
    "# Multiplication expression\n",
    "multiplication = 6 * 2  \n",
    "print(multiplication)\n",
    "\n",
    "# Division expression\n",
    "division = 15 / 3\n",
    "print(division)\n",
    "\n",
    "# Floor Division expression\n",
    "floor_division = 16 // 3 \n",
    "print(floor_division)\n",
    "\n",
    "# Modulus expression\n",
    "modulus = 17 % 3\n",
    "print(modulus)\n",
    "\n",
    "# Exponentiation expression\n",
    "exponentiation = 2 ** 3\n",
    "print(exponentiation)"
   ]
  },
  {
   "cell_type": "code",
   "execution_count": 18,
   "id": "309f8729",
   "metadata": {},
   "outputs": [
    {
     "name": "stdout",
     "output_type": "stream",
     "text": [
      "103\n",
      "6\n",
      "206\n",
      "3.0\n",
      "68\n",
      "1.0\n",
      "4624\n"
     ]
    }
   ],
   "source": [
    "# Using the assignment operator \n",
    "x = 100\n",
    "y = 10\n",
    "\n",
    "# Using the += operator\n",
    "x += 3  \n",
    "print(x)\n",
    "# Using the -= operator\n",
    "y -= 4 \n",
    "print(y)\n",
    "\n",
    "# Using the *= operator\n",
    "x *= 2\n",
    "print(x)\n",
    "# Using the /= operator\n",
    "y /= 2  \n",
    "print(y)\n",
    "\n",
    "# Using the //= operator\n",
    "x //= 3 \n",
    "print(x)\n",
    "# Using the %= operator\n",
    "y %= 2  \n",
    "print(y)\n",
    "# Using the **= operator\n",
    "x **= 2  \n",
    "print(x)"
   ]
  },
  {
   "cell_type": "code",
   "execution_count": 19,
   "id": "aa22d6a6",
   "metadata": {},
   "outputs": [
    {
     "name": "stdout",
     "output_type": "stream",
     "text": [
      "False\n",
      "True\n",
      "False\n",
      "True\n",
      "False\n",
      "True\n"
     ]
    }
   ],
   "source": [
    "x = 5\n",
    "y = 10\n",
    "\n",
    "# Equal to\n",
    "print(x == y)  # False\n",
    "\n",
    "# Not equal to\n",
    "print(x != y)  # True\n",
    "\n",
    "# Greater than\n",
    "print(x > y)   # False\n",
    "\n",
    "# Less than\n",
    "print(x < y)   # True\n",
    "\n",
    "# Greater than or equal to\n",
    "print(x >= y)  # False\n",
    "\n",
    "# Less than or equal to\n",
    "print(x <= y)  # True\n"
   ]
  },
  {
   "cell_type": "code",
   "execution_count": 27,
   "id": "da001623",
   "metadata": {},
   "outputs": [
    {
     "name": "stdout",
     "output_type": "stream",
     "text": [
      "False\n",
      "False\n",
      "True\n"
     ]
    }
   ],
   "source": [
    "# logical and\n",
    "x = 10\n",
    "\n",
    "print(x>10 and x<5) \n",
    "\n",
    "# Logical OR\n",
    "print(x>10 and x<10)\n",
    "\n",
    "# Logical NOT\n",
    "print(not(x>10 and x<5))"
   ]
  },
  {
   "cell_type": "code",
   "execution_count": 29,
   "id": "053f3d22",
   "metadata": {},
   "outputs": [
    {
     "name": "stdout",
     "output_type": "stream",
     "text": [
      "20.5\n",
      "6\n",
      "6.0\n"
     ]
    }
   ],
   "source": [
    "# type casting\n",
    "\n",
    "# int to str\n",
    "a=str(20.5)\n",
    "print(a)\n",
    "\n",
    "# float to int\n",
    "b= int(6.9)\n",
    "print(b)\n",
    "\n",
    "#int to float\n",
    "c= float(b)\n",
    "print(c)\n"
   ]
  },
  {
   "cell_type": "code",
   "execution_count": 30,
   "id": "1a7b73c5",
   "metadata": {},
   "outputs": [
    {
     "name": "stdout",
     "output_type": "stream",
     "text": [
      "a is lesser than b\n",
      "a i lesser than b\n",
      "0\n",
      "1\n",
      "2\n"
     ]
    }
   ],
   "source": [
    "a=10\n",
    "b=5\n",
    "if a == b:\n",
    "    print(\"a is greater than b\")\n",
    "    \n",
    "else:\n",
    "    print(\"a is lesser than b\")\n",
    "\n",
    "    \n",
    "# elif statement\n",
    "a=10\n",
    "b=5\n",
    "if a < b:\n",
    "    print(\"a is greater than b\")\n",
    "elif a>b:\n",
    "    print(\"a i lesser than b\")\n",
    "else:\n",
    "    print(\"a is lesser than b\")\n",
    "    \n",
    "#while statement\n",
    "    \n",
    "while a<3:\n",
    "    print(a)\n",
    "    \n",
    "#for statement\n",
    "for i in range(0,3):\n",
    "    print(i)\n",
    "    "
   ]
  },
  {
   "cell_type": "code",
   "execution_count": 39,
   "id": "6453b52f",
   "metadata": {},
   "outputs": [
    {
     "name": "stdout",
     "output_type": "stream",
     "text": [
      "hi i am student mohammed\n",
      "abdul\n"
     ]
    },
    {
     "ename": "AttributeError",
     "evalue": "'NoneType' object has no attribute 'a'",
     "output_type": "error",
     "traceback": [
      "\u001b[1;31m---------------------------------------------------------------------------\u001b[0m",
      "\u001b[1;31mAttributeError\u001b[0m                            Traceback (most recent call last)",
      "Cell \u001b[1;32mIn[39], line 7\u001b[0m\n\u001b[0;32m      5\u001b[0m     \u001b[38;5;28mprint\u001b[39m(b)\n\u001b[0;32m      6\u001b[0m b\u001b[38;5;241m=\u001b[39mstudent()\n\u001b[1;32m----> 7\u001b[0m \u001b[38;5;28mprint\u001b[39m(\u001b[43mb\u001b[49m\u001b[38;5;241;43m.\u001b[39;49m\u001b[43ma\u001b[49m)\n\u001b[0;32m      8\u001b[0m a\u001b[38;5;241m.\u001b[39mstudent()\n",
      "\u001b[1;31mAttributeError\u001b[0m: 'NoneType' object has no attribute 'a'"
     ]
    }
   ],
   "source": [
    "a=\"mohammed\"\n",
    "b=\"abdul\"\n",
    "def student():\n",
    "    print(\"hi i am student\",a)\n",
    "    print(b)\n",
    "b=student()\n",
    "print(b.a)\n",
    "a.student()"
   ]
  },
  {
   "cell_type": "code",
   "execution_count": 43,
   "id": "d4b194b0",
   "metadata": {},
   "outputs": [
    {
     "ename": "SyntaxError",
     "evalue": "unterminated string literal (detected at line 9) (501737420.py, line 9)",
     "output_type": "error",
     "traceback": [
      "\u001b[1;36m  Cell \u001b[1;32mIn[43], line 9\u001b[1;36m\u001b[0m\n\u001b[1;33m    print(f\"{self.year} {self.make} {self.model})\u001b[0m\n\u001b[1;37m          ^\u001b[0m\n\u001b[1;31mSyntaxError\u001b[0m\u001b[1;31m:\u001b[0m unterminated string literal (detected at line 9)\n"
     ]
    }
   ],
   "source": [
    "# Define a base class (parent class)\n",
    "class phone:\n",
    "    def __init__(self, make, model, year):\n",
    "        self.make = make\n",
    "        self.model = model\n",
    "        self.year = year\n",
    "\n",
    "    def brand(self):\n",
    "        print(f\"{self.year} {self.make} {self.model})\n",
    "\n",
    "    def quality(self):\n",
    "        print(f\"{self.year} {self.make} {self.model})\n",
    "\n",
    "# Define a subclass (derived class) that inherits from Vehicle\n",
    "class (Vehicle):\n",
    "    def accelerate(self, increment):\n",
    "        print(f\"The car is accelerating by {increment} mph.\")\n",
    "\n",
    "    def brake(self, decrement):\n",
    "        print(f\"The car is braking by {decrement} mph.\")\n",
    "\n",
    "# Create an object of the Car class\n",
    "my_car = Car(\"Toyota\", \"Camry\", 2022)\n",
    "\n",
    "\n",
    "my_car.start()       \n",
    "my_car.accelerate(30)  \n",
    "my_car.brake(10)       \n",
    "my_car.stop()         "
   ]
  },
  {
   "cell_type": "code",
   "execution_count": 44,
   "id": "9f85cc67",
   "metadata": {},
   "outputs": [
    {
     "name": "stdout",
     "output_type": "stream",
     "text": [
      "2022 Toyota Camry is starting.\n",
      "The car is accelerating by 30 mph.\n",
      "The car is braking by 10 mph.\n",
      "2022 Toyota Camry has stopped.\n"
     ]
    }
   ],
   "source": [
    "# Define a base class (parent class)\n",
    "class Vehicle:\n",
    "    def __init__(self, make, model, year):\n",
    "        self.make = make\n",
    "        self.model = model\n",
    "        self.year = year\n",
    "\n",
    "    def start(self):\n",
    "        print(f\"{self.year} {self.make} {self.model} is starting.\")\n",
    "\n",
    "    def stop(self):\n",
    "        print(f\"{self.year} {self.make} {self.model} has stopped.\")\n",
    "\n",
    "# Define a subclass (derived class) that inherits from Vehicle\n",
    "class Car(Vehicle):\n",
    "    def accelerate(self, increment):\n",
    "        print(f\"The car is accelerating by {increment} mph.\")\n",
    "\n",
    "    def brake(self, decrement):\n",
    "        print(f\"The car is braking by {decrement} mph.\")\n",
    "\n",
    "# Create an object of the Car class\n",
    "my_car = Car(\"Toyota\", \"Camry\", 2022)\n",
    "\n",
    "\n",
    "my_car.start()         \n",
    "my_car.accelerate(30)  \n",
    "my_car.brake(10)       \n",
    "my_car.stop()         \n",
    "\n"
   ]
  },
  {
   "cell_type": "code",
   "execution_count": 54,
   "id": "82838cad",
   "metadata": {},
   "outputs": [
    {
     "ename": "SyntaxError",
     "evalue": "invalid syntax (2183010230.py, line 2)",
     "output_type": "error",
     "traceback": [
      "\u001b[1;36m  Cell \u001b[1;32mIn[54], line 2\u001b[1;36m\u001b[0m\n\u001b[1;33m    def__init__(self):\u001b[0m\n\u001b[1;37m                     ^\u001b[0m\n\u001b[1;31mSyntaxError\u001b[0m\u001b[1;31m:\u001b[0m invalid syntax\n"
     ]
    }
   ],
   "source": [
    "class bike:\n",
    "    def__init__(self):\n",
    "        self_maxprice=100000\n",
    "    def sell(self):\n",
    "        print(\"selling price:{}\",format(self_maxprice))\n",
    "    def setmaxprice(self,price):\n",
    "        self_maxprice = price\n",
    "c= bike()\n",
    "c.sell()\n",
    "# price change\n",
    "c._maxprice=200000\n",
    "c.sell()\n",
    "# using setter function\n",
    "c.setmaxprice(10)\n",
    "c.sell()"
   ]
  },
  {
   "cell_type": "code",
   "execution_count": 51,
   "id": "f40ddaf3",
   "metadata": {},
   "outputs": [
    {
     "name": "stdout",
     "output_type": "stream",
     "text": [
      "Woof!\n",
      "Meow!\n"
     ]
    }
   ],
   "source": [
    "class Animal:\n",
    "    def speak(self):\n",
    "        pass\n",
    "\n",
    "class Dog(Animal):\n",
    "    def speak(self):\n",
    "        return \"Woof!\"\n",
    "\n",
    "class Cat(Animal):\n",
    "    def speak(self):\n",
    "        return \"Meow!\"\n",
    "\n",
    "def animal_sound(animal):\n",
    "    return animal.speak()\n",
    "\n",
    "dog = Dog()\n",
    "cat = Cat()\n",
    "\n",
    "print(animal_sound(dog))  # Output: Woof!\n",
    "print(animal_sound(cat))  # Output: Meow!\n"
   ]
  },
  {
   "cell_type": "code",
   "execution_count": 55,
   "id": "5d3d126b",
   "metadata": {},
   "outputs": [
    {
     "name": "stdout",
     "output_type": "stream",
     "text": [
      "Selling price: 100000\n",
      "Selling price: 200000\n",
      "Selling price: 150000\n"
     ]
    }
   ],
   "source": [
    "class Bike:\n",
    "    def __init__(self):\n",
    "        self._maxprice = 100000  # Use an underscore to indicate it's a \"protected\" variable\n",
    "\n",
    "    def sell(self):\n",
    "        print(\"Selling price: {}\".format(self._maxprice))\n",
    "\n",
    "    def set_maxprice(self, price):\n",
    "        self._maxprice = price\n",
    "\n",
    "c = Bike()\n",
    "c.sell()\n",
    "\n",
    "# Price change\n",
    "c._maxprice = 200000\n",
    "c.sell()\n",
    "\n",
    "# Using the setter function\n",
    "c.set_maxprice(150000)  # Corrected the price value\n",
    "c.sell()\n"
   ]
  },
  {
   "cell_type": "code",
   "execution_count": 3,
   "id": "5226ab18",
   "metadata": {},
   "outputs": [],
   "source": [
    "from tkinter import*\n",
    "#from tkinter import messagebox\n",
    "cal=Tk()\n",
    "cal.title(\"calci\")\n",
    "cal.geometry(\"500x500\")\n",
    "cal.config(bg=\"sky blue\")\n",
    "lb=Label(cal,text=\"princpal\",font=(\"arial\",20),fg=\"white\",bg=\"sky blue\")\n",
    "lb.place(x=50,y=50)\n",
    "princpal=Entry(cal,width=23)\n",
    "princpal.place(x=160,y=60)\n",
    "la=Label(cal,text=\"Rate of interset\",font=(\"arial\",19),fg=\"white\",bg=\"sky blue\")\n",
    "la.place(x=50,y=100)\n",
    "interset=Entry(cal,width=10)\n",
    "interset.place(x=240,y=110)\n",
    "lc=Label(cal,text=\"year\",font=(\"arial\",19),fg=\"white\",bg=\"sky blue\")\n",
    "lc.place(x=50,y=140)\n",
    "year=Entry(cal,width=27)\n",
    "year.place(x=140,y=150)\n",
    "ll=Label(cal,text=\"Interset\",font=(\"arial\",19),fg=\"white\",bg=\"sky blue\")\n",
    "ll.place(x=50,y=180)\n",
    "def calculate():\n",
    "          y=int(princpal.get())\n",
    "          a=int(interset.get())\n",
    "          c=int(year.get())\n",
    "          z=(y*c*a)/100\n",
    "          Label(text=f\" {z}\",font=\"arial\").place(x=200,y=180)\n",
    "bt=Button(cal,text=\"  calculate  \",command=calculate)\n",
    "bt.place(x=180,y=250)\n",
    "\n",
    "\n",
    "def widget():\n",
    "    messagebox.showinfo(\"result\",\"JEJITUM MARA\")\n",
    "    cal.destroy()\n",
    "    \n",
    "t=Button(cal,text=\"    Exit    \",command=widget)\n",
    "t.place(x=185,y=290)"
   ]
  },
  {
   "cell_type": "code",
   "execution_count": 11,
   "id": "f98906c4",
   "metadata": {},
   "outputs": [],
   "source": [
    "from tkinter import *\n",
    "from tkinter import messagebox\n",
    "\n",
    "cal = Tk()\n",
    "cal.title(\"Calci\")\n",
    "cal.geometry(\"1000x500\")\n",
    "cal.config(bg=\"sky blue\")\n",
    "\n",
    "lb = Label(cal, text=\"Principal\", font=(\"arial\", 20), fg=\"white\", bg=\"blue\")\n",
    "lb.place(x=50, y=50)\n",
    "\n",
    "principal = Entry(cal, width=20)\n",
    "principal.place(x=350, y=60)\n",
    "\n",
    "la = Label(cal, text=\"Rate of interest\", font=(\"arial\", 19), fg=\"white\", bg=\"sky blue\")\n",
    "la.place(x=50, y=100)\n",
    "\n",
    "interest = Entry(cal, width=10)\n",
    "interest.place(x=240, y=110)\n",
    "\n",
    "lc = Label(cal, text=\"Years\", font=(\"arial\", 19), fg=\"white\", bg=\"sky blue\")\n",
    "lc.place(x=50, y=140)\n",
    "\n",
    "years = Entry(cal, width=27)\n",
    "years.place(x=140, y=150)\n",
    "\n",
    "ll = Label(cal, text=\"Interest\", font=(\"arial\", 19), fg=\"white\", bg=\"sky blue\")\n",
    "ll.place(x=50, y=180)\n",
    "\n",
    "result_label = Label(text=\"\", font=\"arial\")\n",
    "result_label.place(x=200, y=180)\n",
    "\n",
    "def calculate():\n",
    "    p = int(principal.get())\n",
    "    r = int(interest.get())\n",
    "    t = int(years.get())\n",
    "    z = (p * t * r) / 100\n",
    "    result_label.config(text=f\" {z}\")\n",
    "\n",
    "bt = Button(cal, text=\"Calculate\", command=calculate)\n",
    "bt.place(x=180, y=250)\n",
    "\n",
    "def widget():\n",
    "    result = messagebox.showinfo(\"Result\", \"JEJITUM MARA\")\n",
    "    cal.destroy()\n",
    "\n",
    "t = Button(cal, text=\"Exit\", command=widget)\n",
    "t.place(x=185, y=290)\n",
    "\n",
    "cal.mainloop()\n"
   ]
  },
  {
   "cell_type": "code",
   "execution_count": 3,
   "id": "41080990",
   "metadata": {},
   "outputs": [],
   "source": [
    "import numpy as np"
   ]
  },
  {
   "cell_type": "code",
   "execution_count": 4,
   "id": "2264ef10",
   "metadata": {},
   "outputs": [
    {
     "name": "stdout",
     "output_type": "stream",
     "text": [
      "[1 3 5 6 7]\n"
     ]
    }
   ],
   "source": [
    "arr =numpy.array([1,3,5,6,7])\n",
    "print(arr)"
   ]
  },
  {
   "cell_type": "code",
   "execution_count": 5,
   "id": "1b50ce11",
   "metadata": {},
   "outputs": [
    {
     "name": "stdout",
     "output_type": "stream",
     "text": [
      "[[3 2 1]\n",
      " [6 5 4]]\n"
     ]
    }
   ],
   "source": [
    "# 2d arrays\n",
    "\n",
    "arr = np.array([[3,2,1],[6,5,4]])\n",
    "\n",
    "print(arr)"
   ]
  },
  {
   "cell_type": "code",
   "execution_count": 7,
   "id": "d73354f7",
   "metadata": {},
   "outputs": [
    {
     "name": "stdout",
     "output_type": "stream",
     "text": [
      "[[[3 2 1]\n",
      "  [6 5 4]]\n",
      "\n",
      " [[3 2 1]\n",
      "  [6 5 4]]]\n"
     ]
    }
   ],
   "source": [
    "# 3d arrays\n",
    "\n",
    "arr = np.array([[[3,2,1],[6,5,4]], [[3,2,1],[6,5,4]]])\n",
    "\n",
    "print(arr)"
   ]
  },
  {
   "cell_type": "code",
   "execution_count": 8,
   "id": "2cdc39d8",
   "metadata": {},
   "outputs": [
    {
     "name": "stdout",
     "output_type": "stream",
     "text": [
      "[2 3 4 5]\n"
     ]
    }
   ],
   "source": [
    "# sliceing a array\n",
    "\n",
    "arr = np.array ([1,2,3,4,5,6,7])\n",
    "\n",
    "print(arr[1:5])"
   ]
  },
  {
   "cell_type": "code",
   "execution_count": 9,
   "id": "58d2fc80",
   "metadata": {},
   "outputs": [
    {
     "name": "stdout",
     "output_type": "stream",
     "text": [
      "[1 2 3 4 5]\n"
     ]
    }
   ],
   "source": [
    "arr = np.array ([1,2,3,4,5,6,7])\n",
    "\n",
    "print(arr[:5])"
   ]
  },
  {
   "cell_type": "code",
   "execution_count": null,
   "id": "6fdc211e",
   "metadata": {},
   "outputs": [],
   "source": []
  }
 ],
 "metadata": {
  "kernelspec": {
   "display_name": "Python 3 (ipykernel)",
   "language": "python",
   "name": "python3"
  },
  "language_info": {
   "codemirror_mode": {
    "name": "ipython",
    "version": 3
   },
   "file_extension": ".py",
   "mimetype": "text/x-python",
   "name": "python",
   "nbconvert_exporter": "python",
   "pygments_lexer": "ipython3",
   "version": "3.10.9"
  }
 },
 "nbformat": 4,
 "nbformat_minor": 5
}
